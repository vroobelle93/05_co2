{
 "cells": [
  {
   "cell_type": "code",
   "execution_count": 1,
   "metadata": {
    "collapsed": true
   },
   "outputs": [],
   "source": [
    "import pandas as pd"
   ]
  },
  {
   "cell_type": "code",
   "execution_count": 3,
   "outputs": [],
   "source": [
    "data = pd.read_csv('train.csv')"
   ],
   "metadata": {
    "collapsed": false
   }
  },
  {
   "cell_type": "code",
   "execution_count": 5,
   "outputs": [
    {
     "name": "stdout",
     "output_type": "stream",
     "text": [
      "<class 'pandas.core.frame.DataFrame'>\n",
      "RangeIndex: 79023 entries, 0 to 79022\n",
      "Data columns (total 76 columns):\n",
      " #   Column                                                    Non-Null Count  Dtype  \n",
      "---  ------                                                    --------------  -----  \n",
      " 0   ID_LAT_LON_YEAR_WEEK                                      79023 non-null  object \n",
      " 1   latitude                                                  79023 non-null  float64\n",
      " 2   longitude                                                 79023 non-null  float64\n",
      " 3   year                                                      79023 non-null  int64  \n",
      " 4   week_no                                                   79023 non-null  int64  \n",
      " 5   SulphurDioxide_SO2_column_number_density                  64414 non-null  float64\n",
      " 6   SulphurDioxide_SO2_column_number_density_amf              64414 non-null  float64\n",
      " 7   SulphurDioxide_SO2_slant_column_number_density            64414 non-null  float64\n",
      " 8   SulphurDioxide_cloud_fraction                             64414 non-null  float64\n",
      " 9   SulphurDioxide_sensor_azimuth_angle                       64414 non-null  float64\n",
      " 10  SulphurDioxide_sensor_zenith_angle                        64414 non-null  float64\n",
      " 11  SulphurDioxide_solar_azimuth_angle                        64414 non-null  float64\n",
      " 12  SulphurDioxide_solar_zenith_angle                         64414 non-null  float64\n",
      " 13  SulphurDioxide_SO2_column_number_density_15km             64414 non-null  float64\n",
      " 14  CarbonMonoxide_CO_column_number_density                   76901 non-null  float64\n",
      " 15  CarbonMonoxide_H2O_column_number_density                  76901 non-null  float64\n",
      " 16  CarbonMonoxide_cloud_height                               76901 non-null  float64\n",
      " 17  CarbonMonoxide_sensor_altitude                            76901 non-null  float64\n",
      " 18  CarbonMonoxide_sensor_azimuth_angle                       76901 non-null  float64\n",
      " 19  CarbonMonoxide_sensor_zenith_angle                        76901 non-null  float64\n",
      " 20  CarbonMonoxide_solar_azimuth_angle                        76901 non-null  float64\n",
      " 21  CarbonMonoxide_solar_zenith_angle                         76901 non-null  float64\n",
      " 22  NitrogenDioxide_NO2_column_number_density                 60703 non-null  float64\n",
      " 23  NitrogenDioxide_tropospheric_NO2_column_number_density    60703 non-null  float64\n",
      " 24  NitrogenDioxide_stratospheric_NO2_column_number_density   60703 non-null  float64\n",
      " 25  NitrogenDioxide_NO2_slant_column_number_density           60703 non-null  float64\n",
      " 26  NitrogenDioxide_tropopause_pressure                       60703 non-null  float64\n",
      " 27  NitrogenDioxide_absorbing_aerosol_index                   60703 non-null  float64\n",
      " 28  NitrogenDioxide_cloud_fraction                            60703 non-null  float64\n",
      " 29  NitrogenDioxide_sensor_altitude                           60703 non-null  float64\n",
      " 30  NitrogenDioxide_sensor_azimuth_angle                      60703 non-null  float64\n",
      " 31  NitrogenDioxide_sensor_zenith_angle                       60703 non-null  float64\n",
      " 32  NitrogenDioxide_solar_azimuth_angle                       60703 non-null  float64\n",
      " 33  NitrogenDioxide_solar_zenith_angle                        60703 non-null  float64\n",
      " 34  Formaldehyde_tropospheric_HCHO_column_number_density      71746 non-null  float64\n",
      " 35  Formaldehyde_tropospheric_HCHO_column_number_density_amf  71746 non-null  float64\n",
      " 36  Formaldehyde_HCHO_slant_column_number_density             71746 non-null  float64\n",
      " 37  Formaldehyde_cloud_fraction                               71746 non-null  float64\n",
      " 38  Formaldehyde_solar_zenith_angle                           71746 non-null  float64\n",
      " 39  Formaldehyde_solar_azimuth_angle                          71746 non-null  float64\n",
      " 40  Formaldehyde_sensor_zenith_angle                          71746 non-null  float64\n",
      " 41  Formaldehyde_sensor_azimuth_angle                         71746 non-null  float64\n",
      " 42  UvAerosolIndex_absorbing_aerosol_index                    78484 non-null  float64\n",
      " 43  UvAerosolIndex_sensor_altitude                            78484 non-null  float64\n",
      " 44  UvAerosolIndex_sensor_azimuth_angle                       78484 non-null  float64\n",
      " 45  UvAerosolIndex_sensor_zenith_angle                        78484 non-null  float64\n",
      " 46  UvAerosolIndex_solar_azimuth_angle                        78484 non-null  float64\n",
      " 47  UvAerosolIndex_solar_zenith_angle                         78484 non-null  float64\n",
      " 48  Ozone_O3_column_number_density                            78475 non-null  float64\n",
      " 49  Ozone_O3_column_number_density_amf                        78475 non-null  float64\n",
      " 50  Ozone_O3_slant_column_number_density                      78475 non-null  float64\n",
      " 51  Ozone_O3_effective_temperature                            78475 non-null  float64\n",
      " 52  Ozone_cloud_fraction                                      78475 non-null  float64\n",
      " 53  Ozone_sensor_azimuth_angle                                78475 non-null  float64\n",
      " 54  Ozone_sensor_zenith_angle                                 78475 non-null  float64\n",
      " 55  Ozone_solar_azimuth_angle                                 78475 non-null  float64\n",
      " 56  Ozone_solar_zenith_angle                                  78475 non-null  float64\n",
      " 57  UvAerosolLayerHeight_aerosol_height                       439 non-null    float64\n",
      " 58  UvAerosolLayerHeight_aerosol_pressure                     439 non-null    float64\n",
      " 59  UvAerosolLayerHeight_aerosol_optical_depth                439 non-null    float64\n",
      " 60  UvAerosolLayerHeight_sensor_zenith_angle                  439 non-null    float64\n",
      " 61  UvAerosolLayerHeight_sensor_azimuth_angle                 439 non-null    float64\n",
      " 62  UvAerosolLayerHeight_solar_azimuth_angle                  439 non-null    float64\n",
      " 63  UvAerosolLayerHeight_solar_zenith_angle                   439 non-null    float64\n",
      " 64  Cloud_cloud_fraction                                      78539 non-null  float64\n",
      " 65  Cloud_cloud_top_pressure                                  78539 non-null  float64\n",
      " 66  Cloud_cloud_top_height                                    78539 non-null  float64\n",
      " 67  Cloud_cloud_base_pressure                                 78539 non-null  float64\n",
      " 68  Cloud_cloud_base_height                                   78539 non-null  float64\n",
      " 69  Cloud_cloud_optical_depth                                 78539 non-null  float64\n",
      " 70  Cloud_surface_albedo                                      78539 non-null  float64\n",
      " 71  Cloud_sensor_azimuth_angle                                78539 non-null  float64\n",
      " 72  Cloud_sensor_zenith_angle                                 78539 non-null  float64\n",
      " 73  Cloud_solar_azimuth_angle                                 78539 non-null  float64\n",
      " 74  Cloud_solar_zenith_angle                                  78539 non-null  float64\n",
      " 75  emission                                                  79023 non-null  float64\n",
      "dtypes: float64(73), int64(2), object(1)\n",
      "memory usage: 45.8+ MB\n"
     ]
    }
   ],
   "source": [
    "data.info()"
   ],
   "metadata": {
    "collapsed": false
   }
  },
  {
   "cell_type": "code",
   "execution_count": 8,
   "outputs": [
    {
     "data": {
      "text/plain": "       ID_LAT_LON_YEAR_WEEK  latitude  longitude  year  week_no  \\\n0  ID_-0.510_29.290_2019_00     -0.51      29.29  2019        0   \n1  ID_-0.510_29.290_2019_01     -0.51      29.29  2019        1   \n2  ID_-0.510_29.290_2019_02     -0.51      29.29  2019        2   \n3  ID_-0.510_29.290_2019_03     -0.51      29.29  2019        3   \n4  ID_-0.510_29.290_2019_04     -0.51      29.29  2019        4   \n\n   SulphurDioxide_SO2_column_number_density  \\\n0                                 -0.000108   \n1                                  0.000021   \n2                                  0.000514   \n3                                       NaN   \n4                                 -0.000079   \n\n   SulphurDioxide_SO2_column_number_density_amf  \\\n0                                      0.603019   \n1                                      0.728214   \n2                                      0.748199   \n3                                           NaN   \n4                                      0.676296   \n\n   SulphurDioxide_SO2_slant_column_number_density  \\\n0                                       -0.000065   \n1                                        0.000014   \n2                                        0.000385   \n3                                             NaN   \n4                                       -0.000048   \n\n   SulphurDioxide_cloud_fraction  SulphurDioxide_sensor_azimuth_angle  ...  \\\n0                       0.255668                           -98.593887  ...   \n1                       0.130988                            16.592861  ...   \n2                       0.110018                            72.795837  ...   \n3                            NaN                                  NaN  ...   \n4                       0.121164                             4.121269  ...   \n\n   Cloud_cloud_top_height  Cloud_cloud_base_pressure  Cloud_cloud_base_height  \\\n0             3664.436218               61085.809570              2615.120483   \n1             3651.190311               66969.478735              3174.572424   \n2             4216.986492               60068.894448              3516.282669   \n3             5228.507736               51064.547339              4180.973322   \n4             3980.598120               63751.125781              3355.710107   \n\n   Cloud_cloud_optical_depth  Cloud_surface_albedo  \\\n0                  15.568533              0.272292   \n1                   8.690601              0.256830   \n2                  21.103410              0.251101   \n3                  15.386899              0.262043   \n4                   8.114694              0.235847   \n\n   Cloud_sensor_azimuth_angle  Cloud_sensor_zenith_angle  \\\n0                  -12.628986                  35.632416   \n1                   30.359375                  39.557633   \n2                   15.377883                  30.401823   \n3                  -11.293399                  24.380357   \n4                   38.532263                  37.392979   \n\n   Cloud_solar_azimuth_angle  Cloud_solar_zenith_angle  emission  \n0                -138.786423                 30.752140  3.750994  \n1                -145.183930                 27.251779  4.025176  \n2                -142.519545                 26.193296  4.231381  \n3                -132.665828                 28.829155  4.305286  \n4                -141.509805                 22.204612  4.347317  \n\n[5 rows x 76 columns]",
      "text/html": "<div>\n<style scoped>\n    .dataframe tbody tr th:only-of-type {\n        vertical-align: middle;\n    }\n\n    .dataframe tbody tr th {\n        vertical-align: top;\n    }\n\n    .dataframe thead th {\n        text-align: right;\n    }\n</style>\n<table border=\"1\" class=\"dataframe\">\n  <thead>\n    <tr style=\"text-align: right;\">\n      <th></th>\n      <th>ID_LAT_LON_YEAR_WEEK</th>\n      <th>latitude</th>\n      <th>longitude</th>\n      <th>year</th>\n      <th>week_no</th>\n      <th>SulphurDioxide_SO2_column_number_density</th>\n      <th>SulphurDioxide_SO2_column_number_density_amf</th>\n      <th>SulphurDioxide_SO2_slant_column_number_density</th>\n      <th>SulphurDioxide_cloud_fraction</th>\n      <th>SulphurDioxide_sensor_azimuth_angle</th>\n      <th>...</th>\n      <th>Cloud_cloud_top_height</th>\n      <th>Cloud_cloud_base_pressure</th>\n      <th>Cloud_cloud_base_height</th>\n      <th>Cloud_cloud_optical_depth</th>\n      <th>Cloud_surface_albedo</th>\n      <th>Cloud_sensor_azimuth_angle</th>\n      <th>Cloud_sensor_zenith_angle</th>\n      <th>Cloud_solar_azimuth_angle</th>\n      <th>Cloud_solar_zenith_angle</th>\n      <th>emission</th>\n    </tr>\n  </thead>\n  <tbody>\n    <tr>\n      <th>0</th>\n      <td>ID_-0.510_29.290_2019_00</td>\n      <td>-0.51</td>\n      <td>29.29</td>\n      <td>2019</td>\n      <td>0</td>\n      <td>-0.000108</td>\n      <td>0.603019</td>\n      <td>-0.000065</td>\n      <td>0.255668</td>\n      <td>-98.593887</td>\n      <td>...</td>\n      <td>3664.436218</td>\n      <td>61085.809570</td>\n      <td>2615.120483</td>\n      <td>15.568533</td>\n      <td>0.272292</td>\n      <td>-12.628986</td>\n      <td>35.632416</td>\n      <td>-138.786423</td>\n      <td>30.752140</td>\n      <td>3.750994</td>\n    </tr>\n    <tr>\n      <th>1</th>\n      <td>ID_-0.510_29.290_2019_01</td>\n      <td>-0.51</td>\n      <td>29.29</td>\n      <td>2019</td>\n      <td>1</td>\n      <td>0.000021</td>\n      <td>0.728214</td>\n      <td>0.000014</td>\n      <td>0.130988</td>\n      <td>16.592861</td>\n      <td>...</td>\n      <td>3651.190311</td>\n      <td>66969.478735</td>\n      <td>3174.572424</td>\n      <td>8.690601</td>\n      <td>0.256830</td>\n      <td>30.359375</td>\n      <td>39.557633</td>\n      <td>-145.183930</td>\n      <td>27.251779</td>\n      <td>4.025176</td>\n    </tr>\n    <tr>\n      <th>2</th>\n      <td>ID_-0.510_29.290_2019_02</td>\n      <td>-0.51</td>\n      <td>29.29</td>\n      <td>2019</td>\n      <td>2</td>\n      <td>0.000514</td>\n      <td>0.748199</td>\n      <td>0.000385</td>\n      <td>0.110018</td>\n      <td>72.795837</td>\n      <td>...</td>\n      <td>4216.986492</td>\n      <td>60068.894448</td>\n      <td>3516.282669</td>\n      <td>21.103410</td>\n      <td>0.251101</td>\n      <td>15.377883</td>\n      <td>30.401823</td>\n      <td>-142.519545</td>\n      <td>26.193296</td>\n      <td>4.231381</td>\n    </tr>\n    <tr>\n      <th>3</th>\n      <td>ID_-0.510_29.290_2019_03</td>\n      <td>-0.51</td>\n      <td>29.29</td>\n      <td>2019</td>\n      <td>3</td>\n      <td>NaN</td>\n      <td>NaN</td>\n      <td>NaN</td>\n      <td>NaN</td>\n      <td>NaN</td>\n      <td>...</td>\n      <td>5228.507736</td>\n      <td>51064.547339</td>\n      <td>4180.973322</td>\n      <td>15.386899</td>\n      <td>0.262043</td>\n      <td>-11.293399</td>\n      <td>24.380357</td>\n      <td>-132.665828</td>\n      <td>28.829155</td>\n      <td>4.305286</td>\n    </tr>\n    <tr>\n      <th>4</th>\n      <td>ID_-0.510_29.290_2019_04</td>\n      <td>-0.51</td>\n      <td>29.29</td>\n      <td>2019</td>\n      <td>4</td>\n      <td>-0.000079</td>\n      <td>0.676296</td>\n      <td>-0.000048</td>\n      <td>0.121164</td>\n      <td>4.121269</td>\n      <td>...</td>\n      <td>3980.598120</td>\n      <td>63751.125781</td>\n      <td>3355.710107</td>\n      <td>8.114694</td>\n      <td>0.235847</td>\n      <td>38.532263</td>\n      <td>37.392979</td>\n      <td>-141.509805</td>\n      <td>22.204612</td>\n      <td>4.347317</td>\n    </tr>\n  </tbody>\n</table>\n<p>5 rows × 76 columns</p>\n</div>"
     },
     "execution_count": 8,
     "metadata": {},
     "output_type": "execute_result"
    }
   ],
   "source": [
    "data.head()"
   ],
   "metadata": {
    "collapsed": false
   }
  },
  {
   "cell_type": "code",
   "execution_count": 20,
   "outputs": [
    {
     "name": "stderr",
     "output_type": "stream",
     "text": [
      "C:\\Users\\lenka\\AppData\\Local\\Temp\\ipykernel_13740\\372930926.py:1: FutureWarning: The default value of numeric_only in DataFrame.corr is deprecated. In a future version, it will default to False. Select only valid columns or specify the value of numeric_only to silence this warning.\n",
      "  data.corr()['emission'].sort_values(ascending=False)\n"
     ]
    },
    {
     "data": {
      "text/plain": "emission                                                    1.000000\nlongitude                                                   0.102746\nUvAerosolLayerHeight_aerosol_height                         0.069008\nCloud_surface_albedo                                        0.046587\nFormaldehyde_tropospheric_HCHO_column_number_density_amf    0.040263\n                                                              ...   \nFormaldehyde_tropospheric_HCHO_column_number_density       -0.033333\nNitrogenDioxide_solar_azimuth_angle                        -0.033417\nCarbonMonoxide_CO_column_number_density                    -0.041328\nCarbonMonoxide_H2O_column_number_density                   -0.043217\nUvAerosolLayerHeight_aerosol_pressure                      -0.068138\nName: emission, Length: 75, dtype: float64"
     },
     "execution_count": 20,
     "metadata": {},
     "output_type": "execute_result"
    }
   ],
   "source": [
    "data.corr()['emission'].sort_values(ascending=False)"
   ],
   "metadata": {
    "collapsed": false
   }
  }
 ],
 "metadata": {
  "kernelspec": {
   "display_name": "Python 3",
   "language": "python",
   "name": "python3"
  },
  "language_info": {
   "codemirror_mode": {
    "name": "ipython",
    "version": 2
   },
   "file_extension": ".py",
   "mimetype": "text/x-python",
   "name": "python",
   "nbconvert_exporter": "python",
   "pygments_lexer": "ipython2",
   "version": "2.7.6"
  }
 },
 "nbformat": 4,
 "nbformat_minor": 0
}
